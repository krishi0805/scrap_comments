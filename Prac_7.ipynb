{
 "cells": [
  {
   "cell_type": "code",
   "execution_count": 1,
   "metadata": {},
   "outputs": [],
   "source": [
    "document = [\"This is the most beautiful place in the world.\", \n",
    "\"This man has more skills to show in cricket than any other game.\", \"Hi there! how was your ladakh trip last month?\", \n",
    "\"There was a player who had scored 200+ runs in single cricket innings in his career.\", \n",
    "\"I have got the opportunity to travel to Paris next year for my internship.\", \n",
    "\"May be he is better than you in batting but you are much better than him in bowling.\", \n",
    "\"That was really a great day for me when I was there at Lavasa for the whole night.\", \n",
    "\"That’s exactly I wanted to become, a highest ratting batsmen ever with top scores.\", \n",
    "\"Does it really matter wether you go to Thailand or Goa, its just you have spend your holidays.\", \n",
    "\"Why don’t you go to Switzerland next year for your 25th Wedding anniversary?\", \n",
    "\"Travel is fatal to prejudice, bigotry, and narrow mindedness., and many of our people need it sorely on these accounts.\", \n",
    "\"Stop worrying about the potholes in the road and enjoy the journey.\", \n",
    "\"No cricket team in the world depends on one or two players. The team always plays to win.\", \n",
    "\"Cricket is a team game. If you want fame for yourself, go play an individual game.\", \n",
    "\"Because in the end, you won’t remember the time you spent working in the office or mowing your lawn. Climb that goddamn mountain.\", \n",
    "\"Isn’t cricket supposed to be a team sport? I feel people should decide first whether cricket is a team game or an individual sport.\"]"
   ]
  },
  {
   "cell_type": "code",
   "execution_count": 3,
   "metadata": {},
   "outputs": [
    {
     "data": {
      "text/plain": [
       "KMeans(algorithm='auto', copy_x=True, init='k-means++', max_iter=100,\n",
       "       n_clusters=2, n_init=1, n_jobs=None, precompute_distances='auto',\n",
       "       random_state=None, tol=0.0001, verbose=0)"
      ]
     },
     "execution_count": 3,
     "metadata": {},
     "output_type": "execute_result"
    }
   ],
   "source": [
    "from sklearn.feature_extraction.text import TfidfVectorizer\n",
    "from sklearn.cluster import KMeans\n",
    "import numpy as np\n",
    "import pandas as pd\n",
    "# Usinf tf-idf to fit and transform the doc\n",
    "vectorizer = TfidfVectorizer(stop_words='english')\n",
    "X = vectorizer.fit_transform(document)\n",
    "true_k = 2\n",
    "model = KMeans(n_clusters=true_k, init='k-means++', max_iter=100, n_init=1)\n",
    "model.fit(X)"
   ]
  },
  {
   "cell_type": "code",
   "execution_count": 4,
   "metadata": {},
   "outputs": [
    {
     "name": "stdout",
     "output_type": "stream",
     "text": [
      "o_c :  [[ 7 91 62 80 54  6 89 81 29 38 44 39 13 28 49 34 27 51 52 84 76  1  3 17\n",
      "  61 36 20 19 59 90  9 74 83 64  4 67  5 30 37 42 31 25 16 71 78 85 48 47\n",
      "  22 60 43 70  8  2 26 11 18 45 88 40 87 46 50 79 63 72 53 33 73 69 10 82\n",
      "  75 77 68 86 12 66 14 15 32 65 58 57 21 56 23 24 55 41 35  0]\n",
      " [12 77 24 41 69 32 73 21 82 55 65 66 68 10  0 56 33 57 58 15 86 89 14 75\n",
      "  35 23 53 31 26 30 34 25 22 29 27 28 16 20  7  1  2  3  4  5  6  8 19  9\n",
      "  11 13 37 17 18 36 91 38 63 67 70 71 72 74 76 78 79 80 81 83 84 85 87 88\n",
      "  64 62 39 61 40 42 43 44 90 46 47 48 49 50 51 52 54 59 60 45]]\n",
      "terms :  ['200', '25th', 'accounts', 'anniversary', 'batsmen', 'batting', 'beautiful', 'better', 'bigotry', 'bowling', 'career', 'climb', 'cricket', 'day', 'decide', 'depends', 'does', 'don', 'end', 'enjoy', 'exactly', 'fame', 'fatal', 'feel', 'game', 'goa', 'goddamn', 'got', 'great', 'hi', 'highest', 'holidays', 'individual', 'innings', 'internship', 'isn', 'journey', 'just', 'ladakh', 'lavasa', 'lawn', 'man', 'matter', 'mindedness', 'month', 'mountain', 'mowing', 'narrow', 'need', 'night', 'office', 'opportunity', 'paris', 'people', 'place', 'play', 'player', 'players', 'plays', 'potholes', 'prejudice', 'ratting', 'really', 'remember', 'road', 'runs', 'scored', 'scores', 'single', 'skills', 'sorely', 'spend', 'spent', 'sport', 'stop', 'supposed', 'switzerland', 'team', 'thailand', 'time', 'travel', 'trip', 'want', 'wanted', 'wedding', 'wether', 'win', 'won', 'working', 'world', 'worrying', 'year']\n"
     ]
    }
   ],
   "source": [
    "order_centroids = model.cluster_centers_.argsort()[:, ::-1]\n",
    "terms = vectorizer.get_feature_names()\n",
    "\n",
    "print('o_c : ',order_centroids)\n",
    "\n",
    "print('terms : ',terms)"
   ]
  },
  {
   "cell_type": "code",
   "execution_count": 5,
   "metadata": {},
   "outputs": [
    {
     "name": "stdout",
     "output_type": "stream",
     "text": [
      "Cluster 0:\n",
      "better\n",
      "year\n",
      "really\n",
      "travel\n",
      "place\n",
      "beautiful\n",
      "world\n",
      "trip\n",
      "hi\n",
      "ladakh\n",
      "Cluster 1:\n",
      "cricket\n",
      "team\n",
      "game\n",
      "man\n",
      "skills\n",
      "individual\n",
      "sport\n",
      "fame\n",
      "want\n",
      "play\n"
     ]
    }
   ],
   "source": [
    "for i in range(true_k):\n",
    "    print(\"Cluster %d:\" % i)\n",
    "    for ind in order_centroids[i, :10]:\n",
    "        print(\"%s\" % terms[ind])"
   ]
  },
  {
   "cell_type": "code",
   "execution_count": 6,
   "metadata": {},
   "outputs": [
    {
     "name": "stdout",
     "output_type": "stream",
     "text": [
      "Predicted cluster: [1]\n"
     ]
    }
   ],
   "source": [
    "X = vectorizer.transform(['Nothing is easy in cricket. Maybe when you watch it on TV, it looks easy. But it is not. You have to use your brain and time the ball.'])\n",
    "predicted = model.predict(X)\n",
    "print('Predicted cluster:', predicted)"
   ]
  },
  {
   "cell_type": "code",
   "execution_count": null,
   "metadata": {},
   "outputs": [],
   "source": []
  }
 ],
 "metadata": {
  "kernelspec": {
   "display_name": "Python 3",
   "language": "python",
   "name": "python3"
  },
  "language_info": {
   "codemirror_mode": {
    "name": "ipython",
    "version": 3
   },
   "file_extension": ".py",
   "mimetype": "text/x-python",
   "name": "python",
   "nbconvert_exporter": "python",
   "pygments_lexer": "ipython3",
   "version": "3.7.6"
  }
 },
 "nbformat": 4,
 "nbformat_minor": 4
}
